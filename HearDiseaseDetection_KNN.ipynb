{
 "cells": [
  {
   "cell_type": "code",
   "execution_count": null,
   "id": "fd75defa-687a-42e7-b588-78b39c1efaf4",
   "metadata": {},
   "outputs": [],
   "source": [
    "import pandas as pd\n",
    "import numpy as np\n",
    "df=pd.read_csv(\"/kaggle/input/heart-failure-prediction/heart.csv\")\n",
    "df.sample(4)"
   ]
  },
  {
   "cell_type": "code",
   "execution_count": null,
   "id": "1ece7aca-aae1-4711-abd6-971704a5df28",
   "metadata": {},
   "outputs": [],
   "source": [
    "df.info()"
   ]
  },
  {
   "cell_type": "code",
   "execution_count": null,
   "id": "81088607-cc7e-4d75-b69d-992c9aa018cb",
   "metadata": {},
   "outputs": [],
   "source": [
    "#  Are there any missing values\n",
    "df.isnull().sum()\n"
   ]
  },
  {
   "cell_type": "code",
   "execution_count": null,
   "id": "9b037c87-74f9-4903-af0b-86e130dde88a",
   "metadata": {},
   "outputs": [],
   "source": [
    "#  how the data look like mathamatically\n",
    "df.describe()\n"
   ]
  },
  {
   "cell_type": "code",
   "execution_count": null,
   "id": "30f6874a-1c56-4138-a1aa-99b6cfae810b",
   "metadata": {},
   "outputs": [],
   "source": [
    "#  Are there any duplicate values\n",
    "df.duplicated().sum()"
   ]
  },
  {
   "cell_type": "code",
   "execution_count": null,
   "id": "541ca8e4-1b99-4faf-831c-a423bfb570ba",
   "metadata": {},
   "outputs": [],
   "source": [
    "df['HeartDisease'].value_counts()"
   ]
  },
  {
   "cell_type": "code",
   "execution_count": null,
   "id": "7e212ac8-7d6d-404d-a253-3e8da1b43bd1",
   "metadata": {},
   "outputs": [],
   "source": [
    "import matplotlib.pyplot as plt\n",
    "import seaborn as sns\n",
    "df.hist(figsize=(12,10),color='tan')\n",
    "plt.show()"
   ]
  },
  {
   "cell_type": "code",
   "execution_count": null,
   "id": "27efb3a3-7d30-457c-98e3-9b10754dc40d",
   "metadata": {},
   "outputs": [],
   "source": [
    "#creating heatmap\n",
    "corr = df.select_dtypes(include=['int64']).corr()\n",
    "sns.heatmap(corr, annot= True, linewidths= 0.5)\n",
    "plt.show()"
   ]
  },
  {
   "cell_type": "code",
   "execution_count": null,
   "id": "cd2171c8-a4ab-4be1-bdfd-e20d100faaab",
   "metadata": {},
   "outputs": [],
   "source": [
    "from sklearn.model_selection import train_test_split\n",
    "\n",
    "from sklearn.metrics import accuracy_score, confusion_matrix, classification_report\n"
   ]
  },
  {
   "cell_type": "code",
   "execution_count": null,
   "id": "e42689a3-914d-45ab-80dc-24eb50f26b0a",
   "metadata": {},
   "outputs": [],
   "source": [
    "from sklearn.preprocessing import OneHotEncoder\n",
    "categorical_features = df.select_dtypes(include=['object']).columns\n",
    "# One-hot encode the categorical features\n",
    "encoder = OneHotEncoder(handle_unknown='ignore')\n",
    "encoded_df = encoder.fit_transform(df[categorical_features])"
   ]
  },
  {
   "cell_type": "code",
   "execution_count": null,
   "metadata": {},
   "outputs": [],
   "source": [
    "from sklearn.neighbors import KNeighborsClassifier"
   ]
  },
  {
   "cell_type": "code",
   "execution_count": null,
   "id": "a1409e50-75e1-4ac6-b542-30a7f6a18ad3",
   "metadata": {},
   "outputs": [],
   "source": [
    "# Split the data into training and testing sets\n",
    "\n",
    "X = encoded_df.iloc[:,:-1]\n",
    "\n",
    "Y=df['HeartDisease']"
   ]
  },
  {
   "cell_type": "code",
   "execution_count": null,
   "id": "8f97df73-ee9b-47b5-8932-c286ef7d5a23",
   "metadata": {},
   "outputs": [],
   "source": [
    "X_train, X_test, y_train, y_test = train_test_split(X, Y, test_size=0.2)"
   ]
  },
  {
   "cell_type": "code",
   "execution_count": null,
   "id": "9c743e32-b30d-49cc-aaba-efc67eabe609",
   "metadata": {},
   "outputs": [],
   "source": [
    "# Train the KNN model\n",
    "knn = KNeighborsClassifier(n_neighbors=5)\n",
    "knn.fit(X_train, y_train)\n",
    "\n",
    "# Make predictions on the test data\n",
    "predictions = knn.predict(X_test)"
   ]
  },
  {
   "cell_type": "code",
   "execution_count": null,
   "id": "d12281eb-f75b-45ea-b9b4-3dced800eb8e",
   "metadata": {},
   "outputs": [],
   "source": [
    "# Evaluate the accuracy of the model\n",
    "accuracy = accuracy_score(y_test, y_pred)\n",
    "print('Accuracy:', accuracy)\n"
   ]
  },
  {
   "cell_type": "code",
   "execution_count": null,
   "id": "4b642441-3b8d-4bd0-b262-901da4ea723e",
   "metadata": {},
   "outputs": [],
   "source": [
    "# Generating a confusion matrix\n",
    "confusion_matrix_ = confusion_matrix(y_test, y_pred)\n",
    "print('Confusion Matrix:')\n",
    "print(confusion_matrix_)"
   ]
  },
  {
   "cell_type": "code",
   "execution_count": null,
   "id": "7952a185-d3d0-4426-9854-aa3894735d4f",
   "metadata": {},
   "outputs": [],
   "source": [
    "# Generate a classification report\n",
    "classification_report_ = classification_report(y_test, y_pred)\n",
    "print('Classification Report:')\n",
    "print(classification_report_)"
   ]
  }
 ],
 "metadata": {
  "kernelspec": {
   "display_name": "Python 3 (ipykernel)",
   "language": "python",
   "name": "python3"
  },
  "language_info": {
   "codemirror_mode": {
    "name": "ipython",
    "version": 3
   },
   "file_extension": ".py",
   "mimetype": "text/x-python",
   "name": "python",
   "nbconvert_exporter": "python",
   "pygments_lexer": "ipython3",
   "version": "3.11.4"
  }
 },
 "nbformat": 4,
 "nbformat_minor": 5
}
